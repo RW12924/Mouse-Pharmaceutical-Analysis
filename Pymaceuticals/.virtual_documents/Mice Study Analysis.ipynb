


import matplotlib.pyplot as plt
import pandas as pd
import scipy.stats as st
import numpy as np

mouse_metadata_path = "data/Mouse_metadata.csv"
study_results_path = "data/Study_results.csv"

mouse_metadata = pd.read_csv(mouse_metadata_path)
study_results = pd.read_csv(study_results_path)

merged_df = pd.merge(mouse_metadata, study_results, on='Mouse ID', how='outer')

merged_df


# .value_counts() provides a list of unique mouse IDs
# .count() counts the number of rows in the data (i.e. the total number of mice)
merged_df['Mouse ID'].value_counts().count()


# Identifies which mouse ID has been duplicated in this Data Frame
duplicate_df = merged_df[merged_df.duplicated(keep= False)]
duplicate_df


# Returns a Data Frame with mouse ID g989 removed
cleaned_df = merged_df.drop(merged_df[merged_df['Mouse ID'] == 'g989'].index)
cleaned_df


# Checks the number of mice in the new cleaned DataFrame
cleaned_df['Mouse ID'].value_counts().count()





# Creates a Data Frame with only the drug regimen and tumor volume values
tumor_df = cleaned_df[['Drug Regimen', 'Tumor Volume (mm3)']]

# Calculates the summary data for the tumor volume values and renames the columns so that our
# summary Data Frame is easier to read
tumor_mean = tumor_df.groupby('Drug Regimen').mean().rename(columns={'Tumor Volume (mm3)':'Mean Tumor Volume'})
tumor_median = tumor_df.groupby('Drug Regimen').median().rename(columns={'Tumor Volume (mm3)':'Median Tumor Volume'})
tumor_variance = tumor_df.groupby('Drug Regimen').var().rename(columns={'Tumor Volume (mm3)':'Tumor Volume Variance'})
tumor_std_dev = tumor_df.groupby('Drug Regimen').std().rename(columns={'Tumor Volume (mm3)':'Tumor Volume Std. Dev.'})
tumor_sem = tumor_df.groupby('Drug Regimen').sem().rename(columns={'Tumor Volume (mm3)':'Tumor Volume Std. Err.'})

# Combines all of our previous calculations into a single Data Frame
stat_summary_df = pd.concat([tumor_mean, tumor_median, tumor_variance, tumor_std_dev, tumor_sem],
                            axis = 1)

stat_summary_df





# Generates a bar chart chart using Pandas showing the total number of rows for each drug regimen
timepoint_count = cleaned_df.groupby('Drug Regimen').count()
timepoint_count = timepoint_count.sort_values(by=['Timepoint'], ascending=False)
pandas_bar_chart = timepoint_count.plot.bar(y='Timepoint', ylabel='# of Observed Mouse Timepoints')
plt.show()


# Generates a bar chart chart using pyplot showing the total number of rows for each drug regimen
drug_count = cleaned_df[['Drug Regimen']].value_counts()
x_axis = np.arange(len(drug_count))
plt.bar(x_axis, height=timepoint_count['Timepoint'])
plt.xticks(np.arange(10), ['Capomulin', 'Ramicane', 'Ketapril',
                       'Naftisol', 'Zoniferol', 'Placebo',
                       'Stelasyn', 'Ceftamin', 'Infubinol',
                       'Propriva'], rotation=90)
plt.xlabel('Drug Regimen')
plt.ylabel('# of Observed Mouse Timepoints')
plt.show()


# Generates a pie plot using Pandas showing the distribution of female vs male mice
sex_count=cleaned_df[['Sex']].value_counts()
sex_count.plot(kind='pie', labels=['Male', 'Female'], autopct='%1.1f%%', ylabel='Sex')
plt.show()


# Generates a pie plot using pyplot showing the distribution of female vs male mice
plt.pie(sex_count, labels=['Male', 'Female'], autopct='%1.1f%%')
plt.ylabel('Sex')
plt.show()





# Retrieves the max timepoint for each mouse ID
# Merges the resulting DataFrame to the original DataFrame
tumor_vol_df = cleaned_df.groupby(['Mouse ID'])['Timepoint'].max()
tumor_vol_df=tumor_vol_df.reset_index()
merged_data = tumor_vol_df.merge(cleaned_df, on=['Mouse ID', 'Timepoint'], how='left')
merged_data


# Creates a list of our desired drug regimens and an empty list to contain the tumor volumes associated with them
treatments_list = ['Capomulin', 'Ramicane', 'Infubinol', 'Ceftamin']
tumor_vol_list = []

# Loops through each treatment in our list, finds matching regimens in the Drug Regimen column, and appends that row's
# tumor volume to our empty list
for treatment in treatments_list:
    tumor_vol=merged_data.loc[merged_data['Drug Regimen']==treatment, 'Tumor Volume (mm3)']
    tumor_vol_list.append(tumor_vol)

    # Calculates the quartiles and outliers of our data
    quartiles=tumor_vol.quantile([.25, .5, .75])
    lower_quartile=quartiles[.25]
    upper_quartile=quartiles[.75]
    iqr = upper_quartile - lower_quartile 
    upper_bound = upper_quartile + (1.5*iqr)
    lower_bound = lower_quartile - (1.5*iqr)
    outliers = tumor_vol.loc[(tumor_vol<lower_bound)|(tumor_vol>upper_bound)]
    print(treatment, outliers)



# Generates a box plot to show the distribution of tumor volume for each of our treatment groups
tumor_vol_y = tumor_vol_list
fig1, ax1 = plt.subplots()
ax1.set_ylabel('Final Tumor volume (mm3)')
ax1.boxplot(tumor_vol_y)
plt.xticks(ticks=np.arange(5), labels=[' ', 'Capomulin', 'Ramicane', 'Infubinol', 'Ceftamin'])
plt.show()





cap_mouse = cleaned_df.loc(cleaned_df['Mouse ID']=='i509')
cap_mouse



